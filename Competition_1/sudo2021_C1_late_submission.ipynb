{
 "cells": [
  {
   "cell_type": "code",
   "execution_count": 1,
   "metadata": {},
   "outputs": [],
   "source": [
    "import pandas as pd\n",
    "import numpy as np\n",
    "import json"
   ]
  },
  {
   "cell_type": "code",
   "execution_count": 2,
   "metadata": {},
   "outputs": [],
   "source": [
    "with open(\"contacts.json\", \"r\") as content:\n",
    "    data = json.load(content)\n",
    "df = pd.DataFrame(data)"
   ]
  },
  {
   "cell_type": "code",
   "execution_count": 3,
   "metadata": {},
   "outputs": [],
   "source": [
    "class DisjSet:\n",
    "    def __init__(self, n):\n",
    "        self.rank = [1] * n\n",
    "        self.parent = [i for i in range(n)]\n",
    "    \n",
    "    def find(self,x):\n",
    "        if self.parent[x] != x:\n",
    "            self.parent[x]= self.find(self.parent[x])\n",
    "        return self.parent[x]\n",
    "    \n",
    "    def union(self, x, y):\n",
    "        xset = self.find(x)\n",
    "        yset = self.find(y)\n",
    "        if xset == yset:\n",
    "            return\n",
    "        if self.rank[xset] < self.rank[yset]:\n",
    "            self.parent[xset] = yset\n",
    "        elif self.rank[xset] > self.rank[yset]:\n",
    "            self.parent[yset] = xset\n",
    "        else:\n",
    "            self.parent[yset] = xset\n",
    "            self.rank[xset] = self.rank[xset] + 1"
   ]
  },
  {
   "cell_type": "code",
   "execution_count": 4,
   "metadata": {},
   "outputs": [],
   "source": [
    "# construct a disjoint set\n",
    "disjoin_set = DisjSet(df.shape[0] * 3)\n",
    "dic = {}\n",
    "dic_key = {}\n",
    "for row in range(df.shape[0]):\n",
    "    id_, email, phone, contacts, order = df.iloc[row]\n",
    "    n_email, n_phone, n_order = 0, 0, 0\n",
    "    if email != '': \n",
    "        dic[email] = dic.get(email, id_*3)      \n",
    "        n_email = dic[email]\n",
    "        dic_key[n_email] = email\n",
    "        \n",
    "    if phone != '': \n",
    "        dic[phone] = dic.get(phone, id_*3+1)\n",
    "        n_phone = dic[phone]\n",
    "        dic_key[n_phone] = phone\n",
    "    if order != '':\n",
    "        dic[order] = dic.get(order, id_*3+2)\n",
    "        n_order = dic[order]\n",
    "        dic_key[n_order] = order\n",
    "        \n",
    "    if n_email != 0 and n_phone != 0:\n",
    "        disjoin_set.union(n_email, n_phone)\n",
    "    if n_email != 0 and n_order != 0:\n",
    "        disjoin_set.union(n_email, n_order)\n",
    "    if n_phone != 0 and n_order != 0:\n",
    "        disjoin_set.union(n_phone, n_order)    "
   ]
  },
  {
   "cell_type": "code",
   "execution_count": 5,
   "metadata": {},
   "outputs": [],
   "source": [
    "lst = [0] * df.shape[0] * 3\n",
    "for i in dic.keys():\n",
    "    lst[dic[i]] = disjoin_set.find(dic[i])"
   ]
  },
  {
   "cell_type": "code",
   "execution_count": 6,
   "metadata": {},
   "outputs": [],
   "source": [
    "new_dic = {}\n",
    "for row in range(df.shape[0]):\n",
    "    id_, email, phone, contacts, order = df.iloc[row]\n",
    "    n = 0\n",
    "    if email != '': \n",
    "        n = lst[dic[email]]\n",
    "    if phone != '':\n",
    "        n = lst[dic[phone]]\n",
    "    if order != '':\n",
    "        n = lst[dic[order]]\n",
    "    if n != 0:\n",
    "        new_dic[n] = new_dic.get(n,set())\n",
    "        new_dic[n].add(id_)\n",
    "    else:\n",
    "        new_dic[id_] = set()\n",
    "        new_dic[id_].add(id_)"
   ]
  },
  {
   "cell_type": "code",
   "execution_count": 7,
   "metadata": {},
   "outputs": [],
   "source": [
    "lst_final = [0] * df.shape[0]\n",
    "for key,value in new_dic.items():\n",
    "    my_sum = 0\n",
    "    final = list(value)\n",
    "    final.sort()\n",
    "    for i in value:    \n",
    "        my_sum += df.loc[i]['Contacts']\n",
    "    final_str = '-'.join(str(j) for j in final) + ', ' + str(my_sum)\n",
    "    for i in value:\n",
    "        lst_final[i] = final_str"
   ]
  },
  {
   "cell_type": "code",
   "execution_count": 8,
   "metadata": {},
   "outputs": [],
   "source": [
    "submission = pd.DataFrame(lst_final)\n",
    "submission = submission.reset_index()\n",
    "submission.columns = ['ticket_id','ticket_trace/contact']\n",
    "submission.to_csv('submission.csv')"
   ]
  },
  {
   "cell_type": "code",
   "execution_count": 9,
   "metadata": {},
   "outputs": [
    {
     "data": {
      "text/html": [
       "<div>\n",
       "<style scoped>\n",
       "    .dataframe tbody tr th:only-of-type {\n",
       "        vertical-align: middle;\n",
       "    }\n",
       "\n",
       "    .dataframe tbody tr th {\n",
       "        vertical-align: top;\n",
       "    }\n",
       "\n",
       "    .dataframe thead th {\n",
       "        text-align: right;\n",
       "    }\n",
       "</style>\n",
       "<table border=\"1\" class=\"dataframe\">\n",
       "  <thead>\n",
       "    <tr style=\"text-align: right;\">\n",
       "      <th></th>\n",
       "      <th>ticket_id</th>\n",
       "      <th>ticket_trace/contact</th>\n",
       "    </tr>\n",
       "  </thead>\n",
       "  <tbody>\n",
       "    <tr>\n",
       "      <th>0</th>\n",
       "      <td>0</td>\n",
       "      <td>0, 1</td>\n",
       "    </tr>\n",
       "    <tr>\n",
       "      <th>1</th>\n",
       "      <td>1</td>\n",
       "      <td>1-2458-98519-115061-140081-165605-476346, 12</td>\n",
       "    </tr>\n",
       "    <tr>\n",
       "      <th>2</th>\n",
       "      <td>2</td>\n",
       "      <td>2-159312-322639-348955, 4</td>\n",
       "    </tr>\n",
       "    <tr>\n",
       "      <th>3</th>\n",
       "      <td>3</td>\n",
       "      <td>3, 0</td>\n",
       "    </tr>\n",
       "    <tr>\n",
       "      <th>4</th>\n",
       "      <td>4</td>\n",
       "      <td>4, 2</td>\n",
       "    </tr>\n",
       "    <tr>\n",
       "      <th>...</th>\n",
       "      <td>...</td>\n",
       "      <td>...</td>\n",
       "    </tr>\n",
       "    <tr>\n",
       "      <th>499995</th>\n",
       "      <td>499995</td>\n",
       "      <td>499995, 2</td>\n",
       "    </tr>\n",
       "    <tr>\n",
       "      <th>499996</th>\n",
       "      <td>499996</td>\n",
       "      <td>499996, 4</td>\n",
       "    </tr>\n",
       "    <tr>\n",
       "      <th>499997</th>\n",
       "      <td>499997</td>\n",
       "      <td>499997, 2</td>\n",
       "    </tr>\n",
       "    <tr>\n",
       "      <th>499998</th>\n",
       "      <td>499998</td>\n",
       "      <td>121111-499998, 5</td>\n",
       "    </tr>\n",
       "    <tr>\n",
       "      <th>499999</th>\n",
       "      <td>499999</td>\n",
       "      <td>499999, 0</td>\n",
       "    </tr>\n",
       "  </tbody>\n",
       "</table>\n",
       "<p>500000 rows × 2 columns</p>\n",
       "</div>"
      ],
      "text/plain": [
       "        ticket_id                          ticket_trace/contact\n",
       "0               0                                          0, 1\n",
       "1               1  1-2458-98519-115061-140081-165605-476346, 12\n",
       "2               2                     2-159312-322639-348955, 4\n",
       "3               3                                          3, 0\n",
       "4               4                                          4, 2\n",
       "...           ...                                           ...\n",
       "499995     499995                                     499995, 2\n",
       "499996     499996                                     499996, 4\n",
       "499997     499997                                     499997, 2\n",
       "499998     499998                              121111-499998, 5\n",
       "499999     499999                                     499999, 0\n",
       "\n",
       "[500000 rows x 2 columns]"
      ]
     },
     "execution_count": 9,
     "metadata": {},
     "output_type": "execute_result"
    }
   ],
   "source": [
    "submission"
   ]
  }
 ],
 "metadata": {
  "kernelspec": {
   "display_name": "Python 3",
   "language": "python",
   "name": "python3"
  },
  "language_info": {
   "codemirror_mode": {
    "name": "ipython",
    "version": 3
   },
   "file_extension": ".py",
   "mimetype": "text/x-python",
   "name": "python",
   "nbconvert_exporter": "python",
   "pygments_lexer": "ipython3",
   "version": "3.6.9"
  }
 },
 "nbformat": 4,
 "nbformat_minor": 4
}
